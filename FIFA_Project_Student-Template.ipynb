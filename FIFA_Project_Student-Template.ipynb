{
 "cells": [
  {
   "cell_type": "code",
   "execution_count": 1,
   "metadata": {},
   "outputs": [],
   "source": [
    "# import the modules\n",
    "import pandas as pd\n",
    "import numpy as np\n",
    "import matplotlib.pyplot as plt\n",
    "import seaborn as sns\n",
    "from sklearn.linear_model import LinearRegression\n",
    "from sklearn.model_selection import train_test_split\n",
    "from sklearn.metrics import mean_squared_error\n",
    "from sklearn.metrics import r2_score\n",
    "%matplotlib inline\n",
    "import warnings\n",
    "warnings.filterwarnings(\"ignore\")\n"
   ]
  },
  {
   "cell_type": "markdown",
   "metadata": {},
   "source": [
    "### Load the dataset\n",
    "\n",
    "- Load the train data and using all your knowledge of pandas try to explore the different statistical properties of the dataset."
   ]
  },
  {
   "cell_type": "code",
   "execution_count": 2,
   "metadata": {},
   "outputs": [],
   "source": [
    "# read the dataset and extract the features and target separately\n",
    "train_data = pd.read_csv(r'C:\\Users\\kamlesh\\Downloads\\machine learing\\train.csv')\n",
    "submission_data = pd.read_csv(r'C:\\Users\\kamlesh\\Downloads\\machine learing\\sample_submission.csv')"
   ]
  },
  {
   "cell_type": "code",
   "execution_count": 3,
   "metadata": {},
   "outputs": [
    {
     "data": {
      "text/plain": [
       "Id               int64\n",
       "Name            object\n",
       "Age              int64\n",
       "Nationality     object\n",
       "Overall          int64\n",
       "Potential        int64\n",
       "Club            object\n",
       "Value (M)      float64\n",
       "Wage (M)       float64\n",
       "Position        object\n",
       "dtype: object"
      ]
     },
     "execution_count": 3,
     "metadata": {},
     "output_type": "execute_result"
    }
   ],
   "source": [
    "train_data.dtypes"
   ]
  },
  {
   "cell_type": "code",
   "execution_count": 4,
   "metadata": {},
   "outputs": [
    {
     "data": {
      "text/plain": [
       "Id               0\n",
       "Name             0\n",
       "Age              0\n",
       "Nationality      0\n",
       "Overall          0\n",
       "Potential        0\n",
       "Club           211\n",
       "Value (M)        0\n",
       "Wage (M)         0\n",
       "Position         0\n",
       "dtype: int64"
      ]
     },
     "execution_count": 4,
     "metadata": {},
     "output_type": "execute_result"
    }
   ],
   "source": [
    "train_data.isna().sum()"
   ]
  },
  {
   "cell_type": "code",
   "execution_count": 5,
   "metadata": {},
   "outputs": [],
   "source": [
    "train_data = train_data.fillna(\"Unknown\")"
   ]
  },
  {
   "cell_type": "code",
   "execution_count": 6,
   "metadata": {},
   "outputs": [
    {
     "data": {
      "text/plain": [
       "Id             0\n",
       "Name           0\n",
       "Age            0\n",
       "Nationality    0\n",
       "Overall        0\n",
       "Potential      0\n",
       "Club           0\n",
       "Value (M)      0\n",
       "Wage (M)       0\n",
       "Position       0\n",
       "dtype: int64"
      ]
     },
     "execution_count": 6,
     "metadata": {},
     "output_type": "execute_result"
    }
   ],
   "source": [
    "train_data.isna().sum()"
   ]
  },
  {
   "cell_type": "code",
   "execution_count": 7,
   "metadata": {},
   "outputs": [
    {
     "data": {
      "text/html": [
       "<div>\n",
       "<style scoped>\n",
       "    .dataframe tbody tr th:only-of-type {\n",
       "        vertical-align: middle;\n",
       "    }\n",
       "\n",
       "    .dataframe tbody tr th {\n",
       "        vertical-align: top;\n",
       "    }\n",
       "\n",
       "    .dataframe thead th {\n",
       "        text-align: right;\n",
       "    }\n",
       "</style>\n",
       "<table border=\"1\" class=\"dataframe\">\n",
       "  <thead>\n",
       "    <tr style=\"text-align: right;\">\n",
       "      <th></th>\n",
       "      <th>Id</th>\n",
       "      <th>Age</th>\n",
       "      <th>Overall</th>\n",
       "      <th>Potential</th>\n",
       "      <th>Value (M)</th>\n",
       "      <th>Wage (M)</th>\n",
       "    </tr>\n",
       "  </thead>\n",
       "  <tbody>\n",
       "    <tr>\n",
       "      <th>min</th>\n",
       "      <td>0.0</td>\n",
       "      <td>16.0</td>\n",
       "      <td>46.0</td>\n",
       "      <td>46.0</td>\n",
       "      <td>0.0</td>\n",
       "      <td>0.000</td>\n",
       "    </tr>\n",
       "    <tr>\n",
       "      <th>max</th>\n",
       "      <td>17980.0</td>\n",
       "      <td>47.0</td>\n",
       "      <td>94.0</td>\n",
       "      <td>94.0</td>\n",
       "      <td>105.0</td>\n",
       "      <td>0.565</td>\n",
       "    </tr>\n",
       "  </tbody>\n",
       "</table>\n",
       "</div>"
      ],
      "text/plain": [
       "          Id   Age  Overall  Potential  Value (M)  Wage (M)\n",
       "min      0.0  16.0     46.0       46.0        0.0     0.000\n",
       "max  17980.0  47.0     94.0       94.0      105.0     0.565"
      ]
     },
     "execution_count": 7,
     "metadata": {},
     "output_type": "execute_result"
    }
   ],
   "source": [
    "train_data.describe().loc[['min','max']]"
   ]
  },
  {
   "cell_type": "code",
   "execution_count": 8,
   "metadata": {},
   "outputs": [
    {
     "data": {
      "text/html": [
       "<div>\n",
       "<style scoped>\n",
       "    .dataframe tbody tr th:only-of-type {\n",
       "        vertical-align: middle;\n",
       "    }\n",
       "\n",
       "    .dataframe tbody tr th {\n",
       "        vertical-align: top;\n",
       "    }\n",
       "\n",
       "    .dataframe thead th {\n",
       "        text-align: right;\n",
       "    }\n",
       "</style>\n",
       "<table border=\"1\" class=\"dataframe\">\n",
       "  <thead>\n",
       "    <tr style=\"text-align: right;\">\n",
       "      <th></th>\n",
       "      <th>Id</th>\n",
       "      <th>Name</th>\n",
       "      <th>Age</th>\n",
       "      <th>Nationality</th>\n",
       "      <th>Overall</th>\n",
       "      <th>Potential</th>\n",
       "      <th>Club</th>\n",
       "      <th>Value (M)</th>\n",
       "      <th>Wage (M)</th>\n",
       "      <th>Position</th>\n",
       "    </tr>\n",
       "  </thead>\n",
       "  <tbody>\n",
       "    <tr>\n",
       "      <th>0</th>\n",
       "      <td>17221</td>\n",
       "      <td>F. Burdenski</td>\n",
       "      <td>25</td>\n",
       "      <td>Germany</td>\n",
       "      <td>54</td>\n",
       "      <td>58</td>\n",
       "      <td>Korona Kielce</td>\n",
       "      <td>0.07</td>\n",
       "      <td>0.001</td>\n",
       "      <td>CDM</td>\n",
       "    </tr>\n",
       "    <tr>\n",
       "      <th>1</th>\n",
       "      <td>11353</td>\n",
       "      <td>A. Deiola</td>\n",
       "      <td>21</td>\n",
       "      <td>Italy</td>\n",
       "      <td>64</td>\n",
       "      <td>73</td>\n",
       "      <td>Cagliari</td>\n",
       "      <td>0.70</td>\n",
       "      <td>0.010</td>\n",
       "      <td>CM</td>\n",
       "    </tr>\n",
       "    <tr>\n",
       "      <th>2</th>\n",
       "      <td>3402</td>\n",
       "      <td>T. Castagne</td>\n",
       "      <td>21</td>\n",
       "      <td>Belgium</td>\n",
       "      <td>72</td>\n",
       "      <td>79</td>\n",
       "      <td>Atalanta</td>\n",
       "      <td>3.70</td>\n",
       "      <td>0.013</td>\n",
       "      <td>RB</td>\n",
       "    </tr>\n",
       "    <tr>\n",
       "      <th>3</th>\n",
       "      <td>16071</td>\n",
       "      <td>D. Gorman</td>\n",
       "      <td>21</td>\n",
       "      <td>Northern Ireland</td>\n",
       "      <td>57</td>\n",
       "      <td>66</td>\n",
       "      <td>Stevenage</td>\n",
       "      <td>0.16</td>\n",
       "      <td>0.002</td>\n",
       "      <td>CM</td>\n",
       "    </tr>\n",
       "    <tr>\n",
       "      <th>4</th>\n",
       "      <td>12380</td>\n",
       "      <td>N. Molina Lucero</td>\n",
       "      <td>19</td>\n",
       "      <td>Argentina</td>\n",
       "      <td>63</td>\n",
       "      <td>75</td>\n",
       "      <td>Boca Juniors</td>\n",
       "      <td>0.55</td>\n",
       "      <td>0.002</td>\n",
       "      <td>LB</td>\n",
       "    </tr>\n",
       "  </tbody>\n",
       "</table>\n",
       "</div>"
      ],
      "text/plain": [
       "      Id              Name  Age       Nationality  Overall  Potential  \\\n",
       "0  17221      F. Burdenski   25           Germany       54         58   \n",
       "1  11353         A. Deiola   21             Italy       64         73   \n",
       "2   3402       T. Castagne   21           Belgium       72         79   \n",
       "3  16071         D. Gorman   21  Northern Ireland       57         66   \n",
       "4  12380  N. Molina Lucero   19         Argentina       63         75   \n",
       "\n",
       "            Club  Value (M)  Wage (M) Position  \n",
       "0  Korona Kielce       0.07     0.001      CDM  \n",
       "1       Cagliari       0.70     0.010       CM  \n",
       "2       Atalanta       3.70     0.013       RB  \n",
       "3      Stevenage       0.16     0.002       CM  \n",
       "4   Boca Juniors       0.55     0.002       LB  "
      ]
     },
     "execution_count": 8,
     "metadata": {},
     "output_type": "execute_result"
    }
   ],
   "source": [
    "train_data.head(5)"
   ]
  },
  {
   "cell_type": "markdown",
   "metadata": {},
   "source": [
    "### Visualize the data\n",
    "\n",
    "- Check for the categorical & continuous features. \n",
    "- Check out the best plots for plotting between categorical target and continuous features and try making some inferences from these plots.\n",
    "- Check for the correlation between the features"
   ]
  },
  {
   "cell_type": "code",
   "execution_count": 9,
   "metadata": {},
   "outputs": [],
   "source": [
    "sns.set_style(\"whitegrid\")"
   ]
  },
  {
   "cell_type": "code",
   "execution_count": 10,
   "metadata": {},
   "outputs": [
    {
     "data": {
      "text/plain": [
       "<AxesSubplot:xlabel='Club', ylabel='Age'>"
      ]
     },
     "execution_count": 10,
     "metadata": {},
     "output_type": "execute_result"
    },
    {
     "data": {
      "image/png": "[encoded data removed]",
      "text/plain": [
       "<Figure size 1080x360 with 1 Axes>"
      ]
     },
     "metadata": {},
     "output_type": "display_data"
    }
   ],
   "source": [
    "plt.figure(figsize=(15,5))\n",
    "sns.barplot(x='Club', y='Age', data= train_data.loc[0:10])"
   ]
  },
  {
   "cell_type": "code",
   "execution_count": 11,
   "metadata": {},
   "outputs": [],
   "source": [
    "# Code Starts here\n",
    "Numeric_cols = ['Id','Age','Overall','Potential','Wage (M)']\n",
    "Categorical_cols = ['Name','Nationality','Club','Position']\n",
    "\n",
    "from sklearn.preprocessing import  LabelEncoder\n",
    "le = LabelEncoder()\n",
    "\n",
    "le.fit(train_data['Name'])\n",
    "train_data['Name']=le.transform(train_data['Name'])\n",
    "le.fit(train_data['Nationality'])\n",
    "train_data['Nationality']=le.transform(train_data['Nationality'])\n",
    "le.fit(train_data['Club'])\n",
    "train_data['Club']=le.transform(train_data['Club'])\n",
    "le.fit(train_data['Position'])\n",
    "train_data['Position']=le.transform(train_data['Position'])\n",
    "# Code ends here"
   ]
  },
  {
   "cell_type": "code",
   "execution_count": 12,
   "metadata": {},
   "outputs": [
    {
     "data": {
      "text/plain": [
       "<AxesSubplot:>"
      ]
     },
     "execution_count": 12,
     "metadata": {},
     "output_type": "execute_result"
    },
    {
     "data": {
      "image/png": "[encoded data removed]",
      "text/plain": [
       "<Figure size 432x288 with 2 Axes>"
      ]
     },
     "metadata": {},
     "output_type": "display_data"
    }
   ],
   "source": [
    "corr = train_data.corr()\n",
    "sns.heatmap(corr, xticklabels = corr.columns, yticklabels = corr.columns, annot = True, cmap= 'viridis')"
   ]
  },
  {
   "cell_type": "markdown",
   "metadata": {},
   "source": [
    "### Model building\n",
    "\n",
    "- Separate the features and target and then split the train data into train and validation set.\n",
    "- Now let's come to the actual task, using linear regression, predict the `Value (M)`. \n",
    "- Try improving upon the `r2_score` (R-Square) using different parameters that give the best score. You can use higher degree [Polynomial Features of sklearn](https://scikit-learn.org/stable/modules/generated/sklearn.preprocessing.PolynomialFeatures.html) to improve the model prediction. \n",
    "\n"
   ]
  },
  {
   "cell_type": "code",
   "execution_count": 13,
   "metadata": {},
   "outputs": [
    {
     "name": "stdout",
     "output_type": "stream",
     "text": [
      "r2 0.7995328796583645\n",
      "mae 5.135528618563141\n",
      "r2 0.9656068307365638\n",
      "mae 0.8810776786460299\n"
     ]
    }
   ],
   "source": [
    "# Code Starts here\n",
    "X = train_data.drop(['Value (M)'],axis=1)\n",
    "y = train_data['Value (M)']\n",
    "\n",
    "X_train, X_test, y_train, y_test = train_test_split(X, y, test_size=0.3, random_state=42)\n",
    "\n",
    "model = LinearRegression()\n",
    "\n",
    "model.fit(X_train, y_train)\n",
    "y_pred = model.predict(X_test)\n",
    "\n",
    "r2 = r2_score(y_test, y_pred)\n",
    "print(\"r2\", r2)\n",
    "\n",
    "mae = mean_squared_error(y_test, y_pred)\n",
    "print(\"mae\", mae)\n",
    "\n",
    "\n",
    "from sklearn.preprocessing import PolynomialFeatures\n",
    "\n",
    "ploy = PolynomialFeatures(4)\n",
    "X_train_2 = ploy.fit_transform(X_train)\n",
    "X_test_2 = ploy.transform(X_test)\n",
    "\n",
    "model = LinearRegression()\n",
    "model.fit(X_train_2, y_train)\n",
    "\n",
    "y_pred_2 = model.predict(X_test_2)\n",
    "\n",
    "r2 = r2_score(y_test,y_pred_2)\n",
    "print(\"r2\", r2)\n",
    "\n",
    "mae = mean_squared_error(y_test, y_pred_2)\n",
    "print(\"mae\", mae)\n",
    "# Code ends here"
   ]
  },
  {
   "cell_type": "markdown",
   "metadata": {},
   "source": [
    "### Prediction on the test data and creating the sample submission file.\n",
    "\n",
    "- Load the test data and store the `Id` column in a separate variable.\n",
    "- Perform the same operations on the test data that you have performed on the train data.\n",
    "- Create the submission file as a `csv` file consisting of the `Id` column from the test data and your prediction as the second column."
   ]
  },
  {
   "cell_type": "code",
   "execution_count": 14,
   "metadata": {},
   "outputs": [
    {
     "name": "stdout",
     "output_type": "stream",
     "text": [
      "[22.24735315 16.9517037   1.19297097 ...  0.89112623  7.66999074\n",
      "  2.57387511]\n"
     ]
    }
   ],
   "source": [
    "# Code Starts here\n",
    "\n",
    "test_data = pd.read_csv(r'C:\\Users\\kamlesh\\Downloads\\machine learing\\test.csv')\n",
    "\n",
    "test_id = test_data['Id']\n",
    "from sklearn.preprocessing import  LabelEncoder\n",
    "le = LabelEncoder()\n",
    "\n",
    "le.fit(test_data['Name'])\n",
    "test_data['Name']=le.transform(test_data['Name'])\n",
    "le.fit(test_data['Nationality'])\n",
    "test_data['Nationality']=le.transform(test_data['Nationality'])\n",
    "le.fit(test_data['Club'])\n",
    "test_data['Club']=le.transform(test_data['Club'])\n",
    "le.fit(test_data['Position'])\n",
    "test_data['Position']=le.transform(test_data['Position'])\n",
    "\n",
    "\n",
    "\n",
    "X = test_data\n",
    "X_test = ploy.transform(X)\n",
    "\n",
    "y_pred_test = model.predict(X_test)\n",
    "print(y_pred_test)\n",
    "\n",
    "# Code ends here"
   ]
  },
  {
   "cell_type": "code",
   "execution_count": 15,
   "metadata": {},
   "outputs": [],
   "source": [
    "submission_result = pd.DataFrame(y_pred_test, index = test_id, columns = ['Value (M)'])"
   ]
  },
  {
   "cell_type": "code",
   "execution_count": 16,
   "metadata": {},
   "outputs": [
    {
     "name": "stdout",
     "output_type": "stream",
     "text": [
      "       Value (M)\n",
      "Id              \n",
      "280        22.25\n",
      "569        16.95\n",
      "8731        1.19\n",
      "10085       0.10\n",
      "9831        0.71\n",
      "...          ...\n",
      "5584        1.10\n",
      "4629        1.60\n",
      "6123        0.89\n",
      "664         7.67\n",
      "4238        2.57\n",
      "\n",
      "[3597 rows x 1 columns]\n"
     ]
    }
   ],
   "source": [
    "print(round(submission_result,2))"
   ]
  },
  {
   "cell_type": "code",
   "execution_count": 17,
   "metadata": {},
   "outputs": [],
   "source": [
    "submission_result.to_csv('FIFO Value Prediction.csv', index = True)"
   ]
  },
  {
   "cell_type": "code",
   "execution_count": null,
   "metadata": {},
   "outputs": [],
   "source": []
  },
  {
   "cell_type": "code",
   "execution_count": null,
   "metadata": {},
   "outputs": [],
   "source": []
  }
 ],
 "metadata": {
  "kernelspec": {
   "display_name": "Python 3",
   "language": "python",
   "name": "python3"
  },
  "language_info": {
   "codemirror_mode": {
    "name": "ipython",
    "version": 3
   },
   "file_extension": ".py",
   "mimetype": "text/x-python",
   "name": "python",
   "nbconvert_exporter": "python",
   "pygments_lexer": "ipython3",
   "version": "3.8.5"
  }
 },
 "nbformat": 4,
 "nbformat_minor": 2
}
